{
 "cells": [
  {
   "cell_type": "code",
   "execution_count": 6,
   "metadata": {},
   "outputs": [],
   "source": []
  },
  {
   "cell_type": "markdown",
   "metadata": {},
   "source": [
    "## K-Prototypes Part II - Applied\n",
    "\n",
    "In the first section of this exploration of clustereing with mixed data, I covered some of the theroetical reasons for _why_ straight up K-Means is not aprpopriate for mixed data. I also wrote about some of the racticaly reasons for wanting to cluster data in a business conetxt.\n",
    "<br> For this subsequent continuation of the tutorial, I will attempt to apply the implementation of  [K-Protoypes]( https://github.com/nicodv/kmodes#huang97) to a data set I have not worked with before. My only _a priori_ requierement is that it had to have mixed continuous and categorical data "
   ]
  },
  {
   "cell_type": "markdown",
   "metadata": {},
   "source": [
    "## KDD Cup 1999 Data \n",
    "\n",
    "Scikit learned has several pre-canned data sets you can play around with. I chose the KDD Cup 1999 Data set. According to the publishers of this data:\n",
    "\n",
    "<br>_\"This is the data set used for The Third International Knowledge Discovery and Data Mining Tools Competition, which was held in conjunction with KDD-99 The Fifth International Conference on Knowledge Discovery and Data Mining. The competition task was to build a network intrusion detector, a predictive model capable of distinguishing between 'bad' connections, called intrusions or attacks, and 'good' normal connections. This database contains a standard set of data to be audited, which includes a wide variety of intrusions simulated in a military network environment.\"_ <br>\n",
    "<br>\n",
    "A few notes on the options I applied to loaing this data set. This is simulated data and contains many more 'rare' events than real world intrusion data would. One of the goals of clustering I mentioned in Part I is the fact that it can be used to detect groups that over-index on outliers and rare events that you may eventually want to model.However, there is an option (the 'SA' subset for resampling the data that drastically cuts down the proportion of 'bad' connections and allows\n"
   ]
  },
  {
   "cell_type": "code",
   "execution_count": 3,
   "metadata": {},
   "outputs": [],
   "source": [
    "import sklearn.datasets\n",
    "import numpy as np\n",
    "import matplotlib.pyplot as plt\n",
    "%matplotlib inline\n",
    "\n",
    "#Load up a small sample of the 'SA' subset of KDD Cup 1999\n",
    "kddcup=sklearn.datasets.fetch_kddcup99 (subset='SA', random_state=666, percent10=True)"
   ]
  },
  {
   "cell_type": "code",
   "execution_count": 4,
   "metadata": {},
   "outputs": [
    {
     "data": {
      "text/plain": [
       "{'data': array([[0, b'tcp', b'http', ..., 0.0, 0.0, 0.0],\n",
       "        [0, b'tcp', b'http', ..., 0.0, 0.0, 0.0],\n",
       "        [0, b'tcp', b'http', ..., 0.0, 0.0, 0.0],\n",
       "        ...,\n",
       "        [0, b'icmp', b'ecr_i', ..., 0.0, 0.0, 0.0],\n",
       "        [0, b'icmp', b'ecr_i', ..., 0.0, 0.0, 0.0],\n",
       "        [0, b'icmp', b'ecr_i', ..., 0.0, 0.0, 0.0]], dtype=object),\n",
       " 'target': array([b'normal.', b'normal.', b'normal.', ..., b'smurf.', b'smurf.',\n",
       "        b'smurf.'], dtype=object)}"
      ]
     },
     "execution_count": 4,
     "metadata": {},
     "output_type": "execute_result"
    }
   ],
   "source": [
    "kddcup"
   ]
  },
  {
   "cell_type": "code",
   "execution_count": 5,
   "metadata": {},
   "outputs": [
    {
     "data": {
      "text/plain": [
       "array([[0, b'tcp', b'http', ..., 0.0, 0.0, 0.0],\n",
       "       [0, b'tcp', b'http', ..., 0.0, 0.0, 0.0],\n",
       "       [0, b'tcp', b'http', ..., 0.0, 0.0, 0.0],\n",
       "       ...,\n",
       "       [0, b'icmp', b'ecr_i', ..., 0.0, 0.0, 0.0],\n",
       "       [0, b'icmp', b'ecr_i', ..., 0.0, 0.0, 0.0],\n",
       "       [0, b'icmp', b'ecr_i', ..., 0.0, 0.0, 0.0]], dtype=object)"
      ]
     },
     "execution_count": 5,
     "metadata": {},
     "output_type": "execute_result"
    }
   ],
   "source": [
    "kddcup['data']"
   ]
  },
  {
   "cell_type": "code",
   "execution_count": 7,
   "metadata": {},
   "outputs": [],
   "source": [
    "\n",
    "import numpy as np\n",
    "# get some of the specifics of the dataset\n",
    "X = kddcup.data\n",
    "y = kddcup.target != b'normal.'\n"
   ]
  },
  {
   "cell_type": "code",
   "execution_count": 9,
   "metadata": {},
   "outputs": [
    {
     "data": {
      "text/plain": [
       "array([False, False, False, ...,  True,  True,  True])"
      ]
     },
     "execution_count": 9,
     "metadata": {},
     "output_type": "execute_result"
    }
   ],
   "source": [
    "y"
   ]
  },
  {
   "cell_type": "code",
   "execution_count": null,
   "metadata": {},
   "outputs": [],
   "source": []
  }
 ],
 "metadata": {
  "kernelspec": {
   "display_name": "Python 3",
   "language": "python",
   "name": "python3"
  },
  "language_info": {
   "codemirror_mode": {
    "name": "ipython",
    "version": 3
   },
   "file_extension": ".py",
   "mimetype": "text/x-python",
   "name": "python",
   "nbconvert_exporter": "python",
   "pygments_lexer": "ipython3",
   "version": "3.7.0"
  }
 },
 "nbformat": 4,
 "nbformat_minor": 2
}
