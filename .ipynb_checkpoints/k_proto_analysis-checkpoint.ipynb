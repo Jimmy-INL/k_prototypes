{
 "cells": [
  {
   "cell_type": "markdown",
   "metadata": {},
   "source": [
    "# A K-Prototypes Case Study \n",
    "\n",
    "## Erik Case"
   ]
  },
  {
   "cell_type": "markdown",
   "metadata": {},
   "source": [
    "## Why Cluster?\n",
    "\n",
    "Keep in mind that humans constantly and automatically cluster with the sensory data we ingest every day.\n",
    "You are constantly categorizing like objects and phenomena that you see, hear, smell and taste every day.\n",
    "<br>The task gets extremely difficult when you are trying to group many rows (observations) and many features (columns).  The mind isn't able to automatically do the same with a data set of any meaningful size.\n"
   ]
  },
  {
   "cell_type": "markdown",
   "metadata": {},
   "source": [
    "_\"Efficient partitioning of large data sets into homogeneous clusters is a fundamental problem in  data mining\" -Huang, 1997_\n",
    "<br>Similar to many tasks of machine learning, clustering aims to mimic the mind's process, but formally and on a larger scale."
   ]
  },
  {
   "cell_type": "markdown",
   "metadata": {},
   "source": [
    "<img src=\"one_of_these_things.png/\">\n"
   ]
  },
  {
   "cell_type": "markdown",
   "metadata": {},
   "source": [
    "## Real World Applications of Observational Clustering \n",
    "\n",
    "#### 1.  Initial Exploratory Data Analysis/Reporting: How many naturally occurring groups exist within the data?\n",
    "<br> a. Helpful for first pass analysis of data where the idea is to find the 'like' groups that exist in the data\n",
    "<br> b. Research question may be something vague like \"We want to get a feel for the data.\"\n",
    "<br> c. This should be in the EDA toolkit of every analyst because it is a LESS ARBITRARY method of categorizing things than, say:\n",
    "<br> _i. Cut all observations up into thirds based on one variable and call it \"Low/Medium/High\"_\n",
    "<br> _ii. Cutting things into deciles (I hate this)_\n",
    "<br> _iii. Look at (low spend + high frequency) vs (high spend + high frequency)  vs (low spend + low frequency) vs (high spend + low frequency) customer quadrants_ \n",
    "<br> _iv. Pure Domain knowledge alone - \"I noticed that people generally above this threshold tend to behave differently from other groups\" or \n",
    "\"These ones here (gestures at chart) are bottom feeders\" -(actual quote from a high powered executive from a company I do not work for)_\n",
    "\n",
    "<br>Note that some of the traditional arbitrary ways of partitioning up a dataset are based on one or two metrics tops. It's not easy to use domain knowledge and intuition alone when you have dozens or hundreds of features.\n",
    "\n",
    "#### 2.  Feature engineering  for a model that will eventually include a the cluster labels as an independent variable\n",
    "a. Interestingly, when you are assigning cluster membership to row-wise observations, you have essentially  engineered a new, condensed and discrete representation of your feature set.\n",
    "\n",
    "b. In that way, row-wise clustering actually has some of the effective characteristics of columnwise clustering. By paritioning the rows into discrete groups, you have mapped multiple columns into a single feature\n",
    "\n",
    "#### 3.  Target engineering \n",
    " Once natural categories have been detected in the data, can I then use them as my Y and predict future membership in that cluster? This is often useful when you know you wil eventually be applying any learnings your clustering to a supervised learningh problem where the target is a rare event. Certain clusters can over-index ona  arerely ocurring target variable."
   ]
  },
  {
   "cell_type": "markdown",
   "metadata": {},
   "source": [
    "### Traditional K-Means Algorithm"
   ]
  },
  {
   "cell_type": "markdown",
   "metadata": {},
   "source": [
    "#### Goal: I want to partition my data set into _'k'_ number of clusters. The clusters should be the 'most' same internally and 'most different' _from each other_"
   ]
  },
  {
   "cell_type": "markdown",
   "metadata": {},
   "source": [
    "How do we measure internal homegenity and external separation (aka 'distance')?\n",
    " The goal, more formally out, is to find the means of 'k' clusters (centroids) such that we minimize the Euclidean within cluster distance:\n"
   ]
  },
  {
   "cell_type": "markdown",
   "metadata": {},
   "source": [
    "<img src=\"minimize_within_cluster_variance.png\">\n"
   ]
  },
  {
   "cell_type": "code",
   "execution_count": 3,
   "metadata": {},
   "outputs": [
    {
     "data": {
      "image/png": "[encoded data removed]",
      "text/plain": [
       "<Figure size 432x288 with 1 Axes>"
      ]
     },
     "metadata": {
      "needs_background": "light"
     },
     "output_type": "display_data"
    }
   ],
   "source": [
    "import numpy as np\n",
    "import matplotlib.pyplot as plt\n",
    "%matplotlib inline\n",
    "\n",
    "##Creating a two dimensional feature set with obvious clusters\n",
    "X = np.array([[1, 2],\n",
    "              [4, 6],\n",
    "              [2, 5 ],\n",
    "              [20, 25],\n",
    "              [20, 30],\n",
    "              [30, 40] ])\n",
    "\n",
    "plt.scatter(X[:,0], X[:,1], s=200)\n",
    "plt.show()\n"
   ]
  },
  {
   "cell_type": "markdown",
   "metadata": {},
   "source": [
    "### It's very clear in this example where the two natural clusters are bunching"
   ]
  },
  {
   "cell_type": "markdown",
   "metadata": {},
   "source": [
    "<br> \n",
    "## Steps in the K-Means Algorithm\n",
    "As defined above, the K-Means algorithm is iterative an can be described in the following steps:\n",
    "\n",
    "1. Inintialize randomly selected means for the specified number of $k$ clusters\n",
    "2. Calculate the Euclidean distance between _all_ observations to _all_ cluster centers\n",
    "3. Assign each observation to the cluster who's centroid it is closest to\n",
    "4. Take the average of the features by cluster, these are your new cluster means\n",
    "5. Repeat steps 2 through 4 until cluster membership becomes stable\n",
    "\n",
    "\n"
   ]
  },
  {
   "cell_type": "code",
   "execution_count": 1,
   "metadata": {},
   "outputs": [
    {
     "ename": "NameError",
     "evalue": "name 'HTML' is not defined",
     "output_type": "error",
     "traceback": [
      "\u001b[1;31m---------------------------------------------------------------------------\u001b[0m",
      "\u001b[1;31mNameError\u001b[0m                                 Traceback (most recent call last)",
      "\u001b[1;32m<ipython-input-1-abc177298658>\u001b[0m in \u001b[0;36m<module>\u001b[1;34m()\u001b[0m\n\u001b[0;32m      1\u001b[0m \u001b[1;31m# Youtube\u001b[0m\u001b[1;33m\u001b[0m\u001b[1;33m\u001b[0m\u001b[0m\n\u001b[1;32m----> 2\u001b[1;33m \u001b[0mHTML\u001b[0m\u001b[1;33m(\u001b[0m\u001b[1;34m'<iframe width=\"560\" height=\"315\" src=\"https://www.youtube.com/embed/BVFG7fd1H30\" frameborder=\"0\" allow=\"autoplay; encrypted-media\" allowfullscreen></iframe>'\u001b[0m\u001b[1;33m)\u001b[0m\u001b[1;33m\u001b[0m\u001b[0m\n\u001b[0m",
      "\u001b[1;31mNameError\u001b[0m: name 'HTML' is not defined"
     ]
    }
   ],
   "source": [
    "# Youtube\n",
    "HTML('<iframe width=\"560\" height=\"315\" src=\"https://www.youtube.com/embed/BVFG7fd1H30\" frameborder=\"0\" allow=\"autoplay; encrypted-media\" allowfullscreen></iframe>')"
   ]
  },
  {
   "cell_type": "markdown",
   "metadata": {},
   "source": [
    "# So what is the problem?\n",
    "\n",
    "In real world data sets we often have data that is categorical and extremely useful. Maybe the categories are a string like 'Red, 'Blue', 'Green.' \n",
    "<br><br>_Even_ if you have done your ML pre-processsing and one hot encoded all your dummies into binary numeric, 1/0 columns, you _still_ have a problem.\n",
    "<br> This problem is easy to miss because most K-Means implementations will take your integer dummy variable and not throw back an error.\n"
   ]
  },
  {
   "cell_type": "markdown",
   "metadata": {},
   "source": [
    "Does the value of a dummy encoded '1' actually have any magnitudinal (_made up word, but you feel me?_) distance from '0'?  Or maybe you have encoded your binaries as '-1' or '1'. <br><br>\n",
    "_\"Is the Euclidean distance between 1 and 0, between -1 and 1, or between \"Red\" and \"Green\" relevant or even calculable?\"_ - The Great Nick Fusaro"
   ]
  },
  {
   "cell_type": "markdown",
   "metadata": {},
   "source": [
    "## Let's ilustrate this problem by tweaking our two dimensional array to swap in a dummy variable for one of the continupus variables"
   ]
  },
  {
   "cell_type": "code",
   "execution_count": 6,
   "metadata": {},
   "outputs": [
    {
     "data": {
      "image/png": "[encoded data removed]",
      "text/plain": [
       "<matplotlib.figure.Figure at 0x24f4c1df6d8>"
      ]
     },
     "metadata": {},
     "output_type": "display_data"
    }
   ],
   "source": [
    "##Creating a two dimensional feature set with a dummy variable\n",
    "X = np.array([\n",
    "              [1, 1],\n",
    "              [4, 0],\n",
    "              [2, 0],\n",
    "              [3, 1],\n",
    "              [4, 0],\n",
    "              [8, 1] ])\n",
    "\n",
    "plt.scatter(X[:,0], X[:,1], s=200)\n",
    "plt.show()"
   ]
  },
  {
   "cell_type": "markdown",
   "metadata": {},
   "source": [
    "### ^ The intuitiveness of Euclidean distance starts to fall apart here"
   ]
  },
  {
   "cell_type": "markdown",
   "metadata": {},
   "source": [
    "### Now try and interpret the Euclidean distance between an array with _two_ dummy variables"
   ]
  },
  {
   "cell_type": "code",
   "execution_count": 5,
   "metadata": {},
   "outputs": [
    {
     "data": {
      "image/png": "[encoded data removed]",
      "text/plain": [
       "<matplotlib.figure.Figure at 0x24f4c197ba8>"
      ]
     },
     "metadata": {},
     "output_type": "display_data"
    }
   ],
   "source": [
    "##Creating a two dimensional feature set with two dummy variables\n",
    "X = np.array([\n",
    "              [0, 1],\n",
    "              [1, 0],\n",
    "              [1, 1],\n",
    "              [0, 1],\n",
    "              [0, 0],\n",
    "              [0, 1] ])\n",
    "\n",
    "plt.scatter(X[:,0], X[:,1], s=200)\n",
    "plt.show()"
   ]
  },
  {
   "cell_type": "markdown",
   "metadata": {},
   "source": [
    "#### ^WTH does that even mean?\n",
    "The summed distances between any means in these examples have no relevancy <br>\n",
    "<br> As (Chandola et. al., 2007) wrote, _\"The key characteristic of categorical data is that different values that a categorical attribute takes are not inherently ordered.\"_   "
   ]
  },
  {
   "cell_type": "markdown",
   "metadata": {},
   "source": [
    "## Measures of Similarity for Categorical Variables\n",
    "There is, however, a rich body of work across several discplines that deal with the problem of categorical similarity. The (still) well used Chi-Sq statistic is a venerable technique derived in the 1800's for probabilistically comparing categorical contingency tables. <br><br> Several of the approaches look at the mismatches and overlaps between categories. One of those is measures of overlap is called _Hamming Distance_, which itself uses the _Kronecker Delta_ :"
   ]
  },
  {
   "cell_type": "markdown",
   "metadata": {},
   "source": [
    "<img src=\"kroenecker_delta.png\">"
   ]
  },
  {
   "cell_type": "markdown",
   "metadata": {},
   "source": [
    "Simply put, the _Kronecker Delta_ returns a 1 if two symbols match and a 0 if they do not."
   ]
  },
  {
   "cell_type": "markdown",
   "metadata": {},
   "source": [
    "## K-Prototypes (Huang 1997)"
   ]
  },
  {
   "cell_type": "markdown",
   "metadata": {},
   "source": [
    "Huang (1997) stitched together a solution that accounts for numeric data using _K Means_ and a reversed _Kronecker Delta_ to compute similarity (or it's inverse, which is dissimilarity):\n"
   ]
  },
  {
   "cell_type": "markdown",
   "metadata": {},
   "source": [
    "He did it, he really did it, a reverse Kronecker:"
   ]
  },
  {
   "cell_type": "markdown",
   "metadata": {},
   "source": [
    "<img src=\"kproto_marked.png\">"
   ]
  },
  {
   "cell_type": "markdown",
   "metadata": {},
   "source": [
    "It is almost algorithmically identical to traditional K-Means, except now you are maximizing within cluster similarity that includes a chunk that measures the 'categorical lean' of each cluster."
   ]
  },
  {
   "cell_type": "markdown",
   "metadata": {},
   "source": [
    "## Back to Why This Matters\n",
    "\n",
    "The TL;DR of this is that people who should know better abuse K-Means by throwing categorical variables in the mix as one hot encoded binary fields. People who do know better often are faced with a choice to follow best practices and drop those variables from the K-Means algorithm, losing valuable information. K-Prototypes offers an alternate approach that allows you to capture both types of information.\n",
    "\n",
    "In terms of data science projects, my experience with this followed a familiar pattern:<br>\n",
    "\n",
    "2. Hmm I want to do that but I can't or shouldn't. Maybe someone else has ran into this problem. \n",
    "3. Google\n",
    "3. Days of reading possible solutions\n",
    "4. Days of implementing possible solutions\n",
    "5. Repeat steps 3 and 4 until convergence or vacation\n",
    "6. Present the findings in a business context and leave out most of the technical stuff that is really the most interesting part to me"
   ]
  },
  {
   "cell_type": "markdown",
   "metadata": {},
   "source": [
    "## A Case Study Using a Python Implementation of K-Modes\n",
    "\n",
    "Niko DeVos created a [Python implementation](https://github.com/nicodv/kmodes#huang97) of both K-Modes (categoriucal clustering only) and K-Prototypes, which will be detailed in Part II, when we go over an applied example of K-Prototypes."
   ]
  },
  {
   "cell_type": "markdown",
   "metadata": {},
   "source": [
    "\n",
    "### Sources: \n",
    " https://pythonprogramming.net/k-means-from-scratch-machine-learning-tutorial/ <br>\n",
    " https://pdfs.semanticscholar.org/d42b/b5ad2d03be6d8fefa63d25d02c0711d19728.pdf <br>\n",
    " https://support.minitab.com/en-us/minitab/18/help-and-how-to/modeling-statistics/multivariate/how-to/cluster-k-means/interpret-the-results/all-statistics-and-graphs/ <br>\n",
    " https://www.researchgate.net/publication/267680144_Similarity_Measures_for_Categorical_Data-A_Comparative_Study_Similarity_Measures_for_Categorical_Data-A_Comparative_Study <br>\n",
    " https://github.com/nicodv/kmodes#huang97\n",
    "\n",
    "               "
   ]
  },
  {
   "cell_type": "code",
   "execution_count": null,
   "metadata": {},
   "outputs": [],
   "source": []
  },
  {
   "cell_type": "code",
   "execution_count": null,
   "metadata": {},
   "outputs": [],
   "source": []
  }
 ],
 "metadata": {
  "kernelspec": {
   "display_name": "Python 3",
   "language": "python",
   "name": "python3"
  },
  "language_info": {
   "codemirror_mode": {
    "name": "ipython",
    "version": 3
   },
   "file_extension": ".py",
   "mimetype": "text/x-python",
   "name": "python",
   "nbconvert_exporter": "python",
   "pygments_lexer": "ipython3",
   "version": "3.7.0"
  }
 },
 "nbformat": 4,
 "nbformat_minor": 2
}
