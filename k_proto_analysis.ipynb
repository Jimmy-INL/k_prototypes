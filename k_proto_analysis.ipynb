{
 "cells": [
  {
   "cell_type": "markdown",
   "metadata": {},
   "source": [
    "# A K-Prototypes Case Study \n",
    "\n",
    "## Erik Case"
   ]
  },
  {
   "cell_type": "code",
   "execution_count": 3,
   "metadata": {},
   "outputs": [],
   "source": [
    "\n",
    "from IPython.display import HTML"
   ]
  },
  {
   "cell_type": "markdown",
   "metadata": {},
   "source": [
    "## Why Cluster?\n",
    "\n",
    "Keep in mind that humans constantly and automatically cluster with the sensory data we ingest every day.\n",
    "You are constantly categorizing like objects and phenomena that you see, hear, smell and taste every day.\n",
    "<br>The task gets extremely difficult when you are trying to group many rows (observations) and many features (columns).  The mind isn't able to automatically do the same with a data set of any meaningful size.\n",
    "<br>_\"Efficient partitioning of large data sets into homogeneous clusters is a fundamental problem in  data mining\" -Huang, 1997_\n",
    "<br>Similar to many tasks of machine learning, clustering aims to mimic the mind's process, but formally and on a larger scale."
   ]
  },
  {
   "cell_type": "markdown",
   "metadata": {},
   "source": [
    "<img src=\"one_of_these_things.png\">\n",
    "\n"
   ]
  },
  {
   "cell_type": "markdown",
   "metadata": {},
   "source": [
    "### Some Practical Business Applications of Row-Wise Unsupervised Learning\n",
    "\n",
    "\n",
    "\n",
    "\n",
    "#### 1.  Initial Exploratory Data Analysis/Reporting: How many naturally occurring groups exist within the data?\n",
    "<br> a. Helpful for first pass analysis of data where the idea is to find the 'like' groups that exist in the data\n",
    "<br> b. Research question may be something vague like \"We want to get a feel for the data.\"\n",
    "<br> c. This should be in the EDA toolkit of every analyst because it is a LESS ARBITRARY method of categorizing things than, say:\n",
    "<br> i Cut all observations up into thirds based on one variable and call it \"Low/Medium/High\"\n",
    "<br> ii. Cutting things into deciles (I hate this)\n",
    "<br> iii. Look at (low spend + high frequency) vs (high spend + high frequency)  vs (low spend + low frequency) vs (high spend + low frequency) customer quadrants \n",
    "<br> iv. Pure Domain knowledge alone - \"I noticed that people generally above this threshold tend to behave differently from other groups\"\n",
    "\n",
    "<br>Note that some of the traditional ways of partitioning up a dataset are based on one or two metrics tops\n",
    "\n",
    "#### 2.  Feature engineering  for a model that will eventually include a target/independent variable \n",
    "_a. Interestingly, when you are assigning cluster membership to row-wise observations, you have essentially  engineered a new, condensed and discrete representation of your feature set._ \n",
    "\n",
    "_b. In that way, row-wise clustering actually has some of the effective characteristics of columnwise clustering. By paritioning the rows into discrete groups, you have mapped multiple columns into a single feature_\n",
    "\n",
    "#### 3.  Target engineering \n",
    " _Once natural categories have been detected in the data, can I then use them as my Y and predict future membership in that cluster?_"
   ]
  },
  {
   "cell_type": "markdown",
   "metadata": {},
   "source": [
    "### Some Practical Business Applications of Row-Wise Unsupervised Learning\n",
    "\n",
    "\n",
    "\n",
    "#### 1.  Initial Exploratory Analysis: How many naturally occurring groups exist within the data?\n",
    "##### a. Helpful for first pass analysis of data where the idea is to find the 'like' groups that exist in the data\n",
    "##### b. Research question may be something vague like \"We want to get a feel for the data.\"\n",
    "##### c. This should be in you EDA toolkit because it is LESS ARBITRARY method of categorizing things than, say:\n",
    "###### i. Hey just cut all observations up into thirds based on one variable and call it \"Low/Medium/High\"\n",
    "###### ii. Cutting things into deciles (I hate this)\n",
    "#####  iii. Pure Domain knolwdge alone\n",
    "\n",
    "Some of the ab\n",
    "\n",
    "\n",
    "    \n",
    "   \n",
    "#### 2.  Feature engineering  for a model that will eventually include a target/independent variable \n",
    "_a. Interestingly, when you are assigning cluster membership to row-wise observations, you have essentially  engineered a new, condensed and discrete representation of your feature set._ \n",
    "\n",
    "_b. In that way, row-wise clustering actually has some of the effective characteristics of columnwise clustering. By paritioning the rows into discrete groups, you have mapped multiple columns into a single feature_\n",
    "\n",
    "#### 3.  Target engineering \n",
    " _Once natural categories have been detected in the data, can I then use them as my Y and predict future membership in that cluster?_"
   ]
  },
  {
   "cell_type": "markdown",
   "metadata": {},
   "source": [
    "## Traditional K-Means Algorithm"
   ]
  },
  {
   "cell_type": "markdown",
   "metadata": {},
   "source": [
    "#### Goal: I want to partition my data set into _'k'_ number of clusters. The clusters should be the 'most' same internally and 'most different' _from each other_"
   ]
  },
  {
   "cell_type": "markdown",
   "metadata": {},
   "source": [
    " _How do we measure internal homegenity and external separation (aka 'distance')?\n",
    " The goal, more formally out, is to find the means of 'k' clusters (centroids) such that we minimize the within cluster Euclidean distance for a given number of 'k' clusters_ :\n"
   ]
  },
  {
   "cell_type": "markdown",
   "metadata": {},
   "source": [
    "<img src=\"minimize_within_cluster_variance.png\">\n",
    "Luckily, minimizing the within cluster"
   ]
  },
  {
   "cell_type": "code",
   "execution_count": null,
   "metadata": {},
   "outputs": [],
   "source": [
    "from scipy.spatial import distance\n",
    "\n",
    "\n",
    "\n",
    "\n",
    "X = np.array([[1, 2],\n",
    "              [4, 6],\n",
    "              [2, 5 ],\n",
    "              [20, 25],\n",
    "              [20, 30],\n",
    "              [30, 40] ])\n",
    "\n",
    "plt.scatter(X[:,0], X[:,1], s=150)\n",
    "plt.show()\n"
   ]
  },
  {
   "cell_type": "markdown",
   "metadata": {},
   "source": []
  },
  {
   "cell_type": "code",
   "execution_count": 45,
   "metadata": {},
   "outputs": [
    {
     "data": {
      "image/png": "[encoded data removed]",
      "text/plain": [
       "<matplotlib.figure.Figure at 0x2469d4195f8>"
      ]
     },
     "metadata": {},
     "output_type": "display_data"
    }
   ],
   "source": [
    "from scipy.spatial import distance\n",
    "\n",
    "\n",
    "\n",
    "\n",
    "X = np.array([[10, 20],\n",
    "              [40, 60],\n",
    "              [20, 50 ],\n",
    "              [200, 250],\n",
    "              [200, 300],\n",
    "              [300, 400] ])\n",
    "\n",
    "plt.scatter(X[:,0], X[:,1], s=150)\n",
    "plt.show()\n"
   ]
  },
  {
   "cell_type": "code",
   "execution_count": null,
   "metadata": {},
   "outputs": [],
   "source": []
  },
  {
   "cell_type": "code",
   "execution_count": 6,
   "metadata": {},
   "outputs": [
    {
     "data": {
      "text/html": [
       "<iframe width=\"560\" height=\"315\" src=\"https://www.youtube.com/embed/BVFG7fd1H30\" frameborder=\"0\" allow=\"autoplay; encrypted-media\" allowfullscreen></iframe>"
      ],
      "text/plain": [
       "<IPython.core.display.HTML object>"
      ]
     },
     "execution_count": 6,
     "metadata": {},
     "output_type": "execute_result"
    }
   ],
   "source": [
    "# Youtube\n",
    "HTML('<iframe width=\"560\" height=\"315\" src=\"https://www.youtube.com/embed/BVFG7fd1H30\" frameborder=\"0\" allow=\"autoplay; encrypted-media\" allowfullscreen></iframe>')"
   ]
  },
  {
   "cell_type": "code",
   "execution_count": null,
   "metadata": {},
   "outputs": [],
   "source": [
    "Sources: \n",
    "    https://pythonprogramming.net/k-means-from-scratch-machine-learning-tutorial/\n",
    "        https://pdfs.semanticscholar.org/d42b/b5ad2d03be6d8fefa63d25d02c0711d19728.pdf\n",
    "            https://support.minitab.com/en-us/minitab/18/help-and-how-to/modeling-statistics/multivariate/how-to/cluster-k-means/interpret-the-results/all-statistics-and-graphs/\n",
    "                "
   ]
  }
 ],
 "metadata": {
  "kernelspec": {
   "display_name": "Python 3",
   "language": "python",
   "name": "python3"
  },
  "language_info": {
   "codemirror_mode": {
    "name": "ipython",
    "version": 3
   },
   "file_extension": ".py",
   "mimetype": "text/x-python",
   "name": "python",
   "nbconvert_exporter": "python",
   "pygments_lexer": "ipython3",
   "version": "3.6.4"
  }
 },
 "nbformat": 4,
 "nbformat_minor": 2
}
